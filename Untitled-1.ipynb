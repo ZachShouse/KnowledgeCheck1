{
 "cells": [
  {
   "cell_type": "code",
   "execution_count": null,
   "metadata": {},
   "outputs": [],
   "source": [
    "using System;\n",
    "using System.Collections.Generic;\n",
    "using System.Linq;\n",
    "using System.Text;\n",
    "using System.Threading.Tasks;\n",
    "\n",
    "namespace KnowledgeCheck1_Calculator\n",
    "{\n",
    "    public class Calculator\n",
    "    {\n",
    "        public int Add(int first, int second)\n",
    "        {\n",
    "            return first + second;\n",
    "        }\n",
    "\n",
    "        public int Subtract(int first, int second)\n",
    "        {\n",
    "            return first - second;\n",
    "        }\n",
    "\n",
    "        public int Multiply(int first, int second)\n",
    "        {\n",
    "            return first * second;\n",
    "        }\n",
    "\n",
    "        public double Divide(double first, double second)\n",
    "        {\n",
    "            return first / second;\n",
    "        }\n",
    "    }\n",
    "}\n"
   ]
  }
 ],
 "metadata": {
  "language_info": {
   "name": "python"
  }
 },
 "nbformat": 4,
 "nbformat_minor": 2
}
